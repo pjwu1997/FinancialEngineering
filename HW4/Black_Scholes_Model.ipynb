{
  "nbformat": 4,
  "nbformat_minor": 0,
  "metadata": {
    "colab": {
      "name": "Black_Scholes_Model.ipynb",
      "provenance": [],
      "collapsed_sections": [],
      "authorship_tag": "ABX9TyOZcbO1hl/A75CE1DXF6YKV",
      "include_colab_link": true
    },
    "kernelspec": {
      "name": "python3",
      "display_name": "Python 3"
    }
  },
  "cells": [
    {
      "cell_type": "markdown",
      "metadata": {
        "id": "view-in-github",
        "colab_type": "text"
      },
      "source": [
        "<a href=\"https://colab.research.google.com/github/pjwu1997/FinancialEngineering/blob/master/HW4/Black_Scholes_Model.ipynb\" target=\"_parent\"><img src=\"https://colab.research.google.com/assets/colab-badge.svg\" alt=\"Open In Colab\"/></a>"
      ]
    },
    {
      "cell_type": "code",
      "metadata": {
        "id": "Zdjzi4DWtcjE",
        "colab_type": "code",
        "colab": {}
      },
      "source": [
        "# Calculate Call/Put Price from BS model (w/dividend)"
      ],
      "execution_count": 0,
      "outputs": []
    },
    {
      "cell_type": "code",
      "metadata": {
        "id": "cxfx7H9WtzbJ",
        "colab_type": "code",
        "colab": {
          "base_uri": "https://localhost:8080/",
          "height": 161
        },
        "outputId": "d8e65034-ff85-4ca3-cad0-53bc21abed74"
      },
      "source": [
        "s = float(input(\"請輸入現價\"))\n",
        "rho = float(input(\"請輸入年化波動度\"))\n",
        "\n",
        "freq_d = int(input(\"請輸入一年分派幾次股息\"))\n",
        "d = float(input(\"請輸入一次股息有多少\"))\n",
        "init_t = float(input(\"請輸入第一次分派股息在幾個月後\"))/12\n",
        "\n",
        "r = float(input(\"請輸入無風險利率\"))\n",
        "\n",
        "X = float(input(\"請輸入執行價\"))\n",
        "t = float(input(\"請輸入距到期多久(年)\"))"
      ],
      "execution_count": 9,
      "outputs": [
        {
          "output_type": "stream",
          "text": [
            "請輸入現價75\n",
            "請輸入年化波動度0.35\n",
            "請輸入一年分派幾次股息4\n",
            "請輸入一次股息有多少1\n",
            "請輸入第一次分派股息在幾個月後1\n",
            "請輸入無風險利率0.06\n",
            "請輸入執行價65\n",
            "請輸入距到期多久(年)0.5\n"
          ],
          "name": "stdout"
        }
      ]
    },
    {
      "cell_type": "code",
      "metadata": {
        "id": "imNEHPSYvfxo",
        "colab_type": "code",
        "outputId": "6dca64c1-a08f-4e82-a4c6-1ddb64b21db9",
        "colab": {
          "base_uri": "https://localhost:8080/",
          "height": 35
        }
      },
      "source": [
        "# Calculate D, the present value of dividend\n",
        "import numpy as np\n",
        "from scipy.stats import norm\n",
        "D = 0\n",
        "for i in np.arange(init_t,t,1/freq_d):\n",
        "    #print(i)\n",
        "    D += d*np.exp(-i*r)\n",
        "\n",
        "S = s - D\n",
        "print(\"D=\",D)"
      ],
      "execution_count": 21,
      "outputs": [
        {
          "output_type": "stream",
          "text": [
            "D= 1.9752111524994376\n"
          ],
          "name": "stdout"
        }
      ]
    },
    {
      "cell_type": "code",
      "metadata": {
        "id": "CxilzMEAxCRm",
        "colab_type": "code",
        "colab": {
          "base_uri": "https://localhost:8080/",
          "height": 89
        },
        "outputId": "13a342f6-b14a-4251-d941-d374cc4918e8"
      },
      "source": [
        "# Parameters for BS model\n",
        "d_1 = (np.log(S/X) + (r + 1/2 * rho**2)*t) / (rho * np.sqrt(t))\n",
        "d_2 = d_1 - rho * np.sqrt(t)\n",
        "\n",
        "print(\"d1 = \",d_1)\n",
        "print(\"d2 = \",d_2)\n",
        "\n",
        "def Call(S,d_1,d_2,r,t,X):\n",
        "    return S * norm.cdf(d_1) - X * np.exp(-r*t) * norm.cdf(d_2)\n",
        "\n",
        "def Put(S,d_1,d_2,r,t,X):\n",
        "    return X * np.exp(-r*t) * norm.cdf(-d_2) - S * norm.cdf(-d_1)\n",
        "\n",
        "print(\"Call price = \",Call(S,d_1,d_2,r,t,X))\n",
        "print(\"Put price =\",Put(S,d_1,d_2,r,t,X))"
      ],
      "execution_count": 19,
      "outputs": [
        {
          "output_type": "stream",
          "text": [
            "d1 =  0.7153362388600112\n",
            "d2 =  0.46784886544471954\n",
            "Call price =  12.806183806810672\n",
            "Put price = 2.8603546399631448\n"
          ],
          "name": "stdout"
        }
      ]
    },
    {
      "cell_type": "code",
      "metadata": {
        "id": "bvE7cEGa1xxN",
        "colab_type": "code",
        "colab": {}
      },
      "source": [
        ""
      ],
      "execution_count": 0,
      "outputs": []
    },
    {
      "cell_type": "code",
      "metadata": {
        "id": "q8n1kasK14Hz",
        "colab_type": "code",
        "colab": {}
      },
      "source": [
        ""
      ],
      "execution_count": 0,
      "outputs": []
    }
  ]
}