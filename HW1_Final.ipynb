{
  "nbformat": 4,
  "nbformat_minor": 0,
  "metadata": {
    "colab": {
      "name": "Copy of Test_HW1.ipynb",
      "provenance": [],
      "toc_visible": true,
      "mount_file_id": "1NhvQ8bRh7ZM_rOjoGjr5rloH4BwqYrjH",
      "authorship_tag": "ABX9TyOnYlj4yht9Bff9GPfNGwNq",
      "include_colab_link": true
    },
    "kernelspec": {
      "name": "python3",
      "display_name": "Python 3"
    }
  },
  "cells": [
    {
      "cell_type": "markdown",
      "metadata": {
        "id": "view-in-github",
        "colab_type": "text"
      },
      "source": [
        "<a href=\"https://colab.research.google.com/github/pjwu1997/FinancialEngineering/blob/master/HW1_Final.ipynb\" target=\"_parent\"><img src=\"https://colab.research.google.com/assets/colab-badge.svg\" alt=\"Open In Colab\"/></a>"
      ]
    },
    {
      "cell_type": "code",
      "metadata": {
        "id": "S2q1dfw9EbFZ",
        "colab_type": "code",
        "outputId": "068f2500-42f1-4269-dfb3-66e1ae89bd07",
        "colab": {
          "base_uri": "https://localhost:8080/",
          "height": 127
        }
      },
      "source": [
        "#For colab settings  \n",
        "from google.colab import drive\n",
        "import os\n",
        "drive.mount('/content/gdrive', force_remount = True)\n",
        "os.chdir('/content/gdrive/My Drive/')\n",
        "\n",
        "#Real\n",
        "import csv"
      ],
      "execution_count": 68,
      "outputs": [
        {
          "output_type": "stream",
          "text": [
            "Go to this URL in a browser: https://accounts.google.com/o/oauth2/auth?client_id=947318989803-6bn6qk8qdgf4n4g3pfee6491hc0brc4i.apps.googleusercontent.com&redirect_uri=urn%3aietf%3awg%3aoauth%3a2.0%3aoob&response_type=code&scope=email%20https%3a%2f%2fwww.googleapis.com%2fauth%2fdocs.test%20https%3a%2f%2fwww.googleapis.com%2fauth%2fdrive%20https%3a%2f%2fwww.googleapis.com%2fauth%2fdrive.photos.readonly%20https%3a%2f%2fwww.googleapis.com%2fauth%2fpeopleapi.readonly\n",
            "\n",
            "Enter your authorization code:\n",
            "··········\n",
            "Mounted at /content/gdrive\n"
          ],
          "name": "stdout"
        }
      ]
    },
    {
      "cell_type": "code",
      "metadata": {
        "id": "SCnoHfKYEbhz",
        "colab_type": "code",
        "outputId": "1c3ee5b3-6012-4a01-86f8-a2615ab75c12",
        "colab": {
          "base_uri": "https://localhost:8080/",
          "height": 71
        }
      },
      "source": [
        "principal = float(input(\"請輸入本金（萬元）\"))*10000\n",
        "terms = int(input(\"請輸入期數（年）\"))\n",
        "rate = float(input(\"請輸入年利率（%）\"))"
      ],
      "execution_count": 69,
      "outputs": [
        {
          "output_type": "stream",
          "text": [
            "請輸入本金（萬元）10\n",
            "請輸入期數（年）3\n",
            "請輸入年利率（%）10\n"
          ],
          "name": "stdout"
        }
      ]
    },
    {
      "cell_type": "code",
      "metadata": {
        "id": "dXe4rwDbnRgt",
        "colab_type": "code",
        "colab": {}
      },
      "source": [
        "r_principal = []\n",
        "interest = []\n",
        "payment_list = []\n",
        "sum_totalpay = []\n",
        "total = 0"
      ],
      "execution_count": 0,
      "outputs": []
    },
    {
      "cell_type": "code",
      "metadata": {
        "id": "nscmoTrAn9Nt",
        "colab_type": "code",
        "colab": {}
      },
      "source": [
        "payment = int(principal / (terms * 12))"
      ],
      "execution_count": 0,
      "outputs": []
    },
    {
      "cell_type": "code",
      "metadata": {
        "id": "21KKRowNpXuZ",
        "colab_type": "code",
        "colab": {}
      },
      "source": [
        "# Calculate the remain principal, interest, total payment of each term\n",
        "# Until the last term, in which all the left principal be paid.\n",
        "for i in range(terms * 12-1):\n",
        "    r_principal.append(principal)\n",
        "    interest.append(int(r_principal[-1]*rate/100/12))\n",
        "    principal -= payment\n",
        "    total += (int(payment+interest[-1]))\n",
        "    payment_list.append(payment)\n",
        "    sum_totalpay.append(total)\n",
        "\n",
        "r_principal.append(principal)\n",
        "payment_list.append(int(r_principal[-1]))\n",
        "interest.append(int(r_principal[-1]*rate/100/12))\n",
        "total += int(payment_list[-1]+interest[-1])\n",
        "sum_totalpay.append(total)"
      ],
      "execution_count": 0,
      "outputs": []
    },
    {
      "cell_type": "code",
      "metadata": {
        "id": "VQfqDULZyMqu",
        "colab_type": "code",
        "colab": {}
      },
      "source": [
        "with open('result.csv','w',newline = '') as csvfile:\n",
        "    writer = csv.writer(csvfile)\n",
        "    writer.writerow(['本金',principal])\n",
        "    writer.writerow(['期數（年）',terms])\n",
        "    writer.writerow(['年利率',str(rate)+'%'])\n",
        "    writer.writerow(['平均每月攤還本金',payment])\n",
        "    writer.writerow(['平均每月攤還利息',sum(interest)/len(interest)])\n",
        "    writer.writerow(['全部利息',sum(interest)])\n",
        "    writer.writerow(['','本金（元）','利息（元）','本金利息累計（元）'])\n",
        "    for i in range(len(r_principal)):\n",
        "        writer.writerow(['第'+str(i+1)+'期',payment_list[i],interest[i],sum_totalpay[i]])"
      ],
      "execution_count": 0,
      "outputs": []
    },
    {
      "cell_type": "code",
      "metadata": {
        "id": "7ghC8sGz4EYD",
        "colab_type": "code",
        "colab": {}
      },
      "source": [
        "#!cd /content/gdrive/"
      ],
      "execution_count": 0,
      "outputs": []
    },
    {
      "cell_type": "code",
      "metadata": {
        "id": "dEzRObmDHmOA",
        "colab_type": "code",
        "colab": {
          "base_uri": "https://localhost:8080/",
          "height": 125
        },
        "outputId": "9a784fd4-e6be-4824-890a-0ec20a0bcfe1"
      },
      "source": [
        "#!ls -l"
      ],
      "execution_count": 48,
      "outputs": [
        {
          "output_type": "stream",
          "text": [
            "ls: cannot access 'drive': Transport endpoint is not connected\n",
            "total 12\n",
            "d????????? ? ?    ?       ?            ? drive\n",
            "drwx------ 4 root root 4096 Mar  5 14:37 gdrive\n",
            "-rw-r--r-- 1 root root  498 Mar  5 13:45 result.csv\n",
            "drwxr-xr-x 1 root root 4096 Mar  3 18:11 sample_data\n"
          ],
          "name": "stdout"
        }
      ]
    }
  ]
}