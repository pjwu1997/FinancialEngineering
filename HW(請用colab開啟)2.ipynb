{
  "nbformat": 4,
  "nbformat_minor": 0,
  "metadata": {
    "colab": {
      "name": "HW2.ipynb",
      "provenance": [],
      "collapsed_sections": [],
      "authorship_tag": "ABX9TyPs8Py7h8gYK6CRsgbBzz51",
      "include_colab_link": true
    },
    "kernelspec": {
      "name": "python3",
      "display_name": "Python 3"
    }
  },
  "cells": [
    {
      "cell_type": "markdown",
      "metadata": {
        "id": "view-in-github",
        "colab_type": "text"
      },
      "source": [
        "<a href=\"https://colab.research.google.com/github/pjwu1997/FinancialEngineering/blob/master/HW2.ipynb\" target=\"_parent\"><img src=\"https://colab.research.google.com/assets/colab-badge.svg\" alt=\"Open In Colab\"/></a>"
      ]
    },
    {
      "cell_type": "code",
      "metadata": {
        "id": "c8oPVKs5L6sg",
        "colab_type": "code",
        "outputId": "786e9101-3e43-4a42-efec-3fa471835c21",
        "colab": {
          "base_uri": "https://localhost:8080/",
          "height": 323
        }
      },
      "source": [
        "## Calculate Yield Curve From Bond Price \n",
        "\n",
        "import numpy as np\n",
        "from sympy.solvers import solve\n",
        "from sympy import Symbol\n",
        "import sympy\n",
        "\n",
        "def calculate_ytm(price,par_value,coupon_rate,period,terms):\n",
        "    x = Symbol('x')\n",
        "    eq_str = str(price)+'*x**'+str(terms)+'-('\n",
        "    C = par_value * coupon_rate * period \n",
        "    for i in range(terms):\n",
        "        if i != terms-1:\n",
        "            tmp = str(C) + '*' + 'x' + '**' + str(i) + '+'\n",
        "        else:\n",
        "            tmp = str(C) + '*' + 'x' + '**' + str(i) + ')-'\n",
        "        eq_str += tmp\n",
        "    eq_str += str(par_value)\n",
        "    #print(eq_str)\n",
        "    #print(solve(eq_str))\n",
        "    solution = solve(eq_str)\n",
        "    #print(type(solution[0]))\n",
        "    solution = [i for i in solution if isinstance(i,sympy.numbers.Float)]\n",
        "    solution = [i for i in solution if i > 0]\n",
        "    #print(solution)\n",
        "    ytm = (solution[0] - 1)/period\n",
        "    return ytm\n",
        "\n",
        "def calculate_spot(bond_array,period):\n",
        "    spot_array = [bond_array[0].ytm] #initialization\n",
        "    for i in range(1,len(bond_array)):\n",
        "        price = bond_array[i].price\n",
        "        coupon_rate = bond_array[i].coupon_rate\n",
        "        par_value = bond_array[i].par_value\n",
        "        #print('par='+str(par_value))\n",
        "        C = par_value * coupon_rate * period\n",
        "        LHS = price\n",
        "        RHS = 0\n",
        "        for j in range(0,len(spot_array)):\n",
        "            RHS += C * ((1+spot_array[j]*period)**(-(j+1)))\n",
        "        #print('LHS='+str(LHS))\n",
        "        #print('RHS='+str(RHS))\n",
        "        #print(1.002**-1)\n",
        "        #print((par_value+C) / (LHS-RHS))\n",
        "        spot_array.append(((((par_value+C) / (LHS-RHS)) ** (1/(i+1)))-1) / period)\n",
        "    return spot_array\n",
        "\n",
        "def calculate_forward(spot_array):\n",
        "    forward_matrix = np.zeros((len(spot_array),len(spot_array)))\n",
        "    for i in range(len(spot_array)):\n",
        "        for j in range(i,len(spot_array)):\n",
        "            if i == j : continue\n",
        "            forward_matrix[i][j] = (((1 + spot_array[j] * period) ** j / (1 + spot_array[i] * period) ** i) ** (1/(j-i))-1)/period \n",
        "    return forward_matrix\n",
        "\n",
        "class bond():\n",
        "    def __init__(self,price,par_value,coupon_rate,y_to_maturity,period):\n",
        "        self.price = price\n",
        "        self.par_value = par_value\n",
        "        self.coupon_rate = coupon_rate\n",
        "        self.y_to_maturity = y_to_maturity\n",
        "        self.terms = int(y_to_maturity / period)\n",
        "        self.period = period\n",
        "        self.ytm = calculate_ytm(self.price,self.par_value,self.coupon_rate,self.period,self.terms)\n",
        "\n",
        "\n",
        "period = float(input('請輸入債券多久計息一次（年）ex:半年計息一次，輸入0.5:'))\n",
        "n_terms = int(input('請輸入總共有幾期債券(>3):'))\n",
        "bond_array = []\n",
        "for i in range(1,n_terms+1):\n",
        "    price = float(input('請輸入'+str(i*period)+'年後到期債券之價格:'))\n",
        "    par_value = float(input('請輸入第'+str(i*period)+'年後到期債券之面額:'))\n",
        "    coupon_rate = float(input('請輸入第'+str(i*period)+'年後到期債券之年利率(%):'))/100\n",
        "    y_to_maturity = i*period\n",
        "    bond_array.append(bond(price,par_value,coupon_rate,y_to_maturity,period))\n",
        "\n",
        "yield_array = [i.ytm for i in bond_array]\n",
        "spot_array = calculate_spot(bond_array,period)\n",
        "forward_matrix = calculate_forward(spot_array)"
      ],
      "execution_count": 0,
      "outputs": [
        {
          "output_type": "stream",
          "text": [
            "請輸入債券多久計息一次（年）ex:半年計息一次，輸入0.5:1\n",
            "請輸入總共有幾期債券(>3):5\n",
            "請輸入1.0年後到期債券之價格:100\n",
            "請輸入第1.0年後到期債券之面額:100\n",
            "請輸入第1.0年後到期債券之年利率(%):2\n",
            "請輸入2.0年後到期債券之價格:100\n",
            "請輸入第2.0年後到期債券之面額:103\n",
            "請輸入第2.0年後到期債券之年利率(%):2\n",
            "請輸入3.0年後到期債券之價格:100\n",
            "請輸入第3.0年後到期債券之面額:107\n",
            "請輸入第3.0年後到期債券之年利率(%):2\n",
            "請輸入4.0年後到期債券之價格:100\n",
            "請輸入第4.0年後到期債券之面額:112\n",
            "請輸入第4.0年後到期債券之年利率(%):2\n",
            "請輸入5.0年後到期債券之價格:100\n",
            "請輸入第5.0年後到期債券之面額:119\n",
            "請輸入第5.0年後到期債券之年利率(%):2\n"
          ],
          "name": "stdout"
        }
      ]
    },
    {
      "cell_type": "markdown",
      "metadata": {
        "id": "tG7eS4DkYG6r",
        "colab_type": "text"
      },
      "source": [
        "首先，使用class bond()來儲存輸入的債券資料，並透過calculate_ytm來計算其殖利率。\n",
        "使用到的公式為：\n",
        "![](https://latex.codecogs.com/gif.latex?PV&space;=\\sum_{i=1}^{n}\\frac{C}{(1&plus;r_i)^n}&plus;\\frac{F}{(1&plus;r_n)^n})\n",
        "\n",
        "移項後為一n次多項式，使用Sympy求解，過濾掉複數解與負解後求得ytm.\n",
        "![alt text](https://)\n",
        "而後透過calculate_spot函數計算spot rate,使用到的公式為：\n",
        "![](https://latex.codecogs.com/gif.latex?PV&space;=\\sum_{i=1}^{n}\\frac{C}{(1&plus;r_i)^n}&plus;\\frac{F}{(1&plus;r_n)^n})\n",
        "\n",
        "使用拔靴法計算之。\n",
        "\n",
        "最後使用Spot rate反推Forward Rate,儲存forward_matrix中。\n"
      ]
    },
    {
      "cell_type": "code",
      "metadata": {
        "id": "wjcn_fidyYCu",
        "colab_type": "code",
        "outputId": "554898bb-ce1f-4ec5-c1c8-26a358032087",
        "colab": {
          "base_uri": "https://localhost:8080/",
          "height": 107
        }
      },
      "source": [
        "yield_array #Yield Curve"
      ],
      "execution_count": 0,
      "outputs": [
        {
          "output_type": "execute_result",
          "data": {
            "text/plain": [
              "[0.0200000000000000,\n",
              " 0.0353395553343296,\n",
              " 0.0437418127370219,\n",
              " 0.0502318265926867,\n",
              " 0.0576629647740685]"
            ]
          },
          "metadata": {
            "tags": []
          },
          "execution_count": 5
        }
      ]
    },
    {
      "cell_type": "code",
      "metadata": {
        "id": "CBqi6GfcYGpg",
        "colab_type": "code",
        "outputId": "04983c86-1d08-42f8-c952-fc2d728680da",
        "colab": {
          "base_uri": "https://localhost:8080/",
          "height": 107
        }
      },
      "source": [
        "spot_array #Spot Curve"
      ],
      "execution_count": 0,
      "outputs": [
        {
          "output_type": "execute_result",
          "data": {
            "text/plain": [
              "[0.0200000000000000,\n",
              " 0.0354976355414469,\n",
              " 0.0440287805017014,\n",
              " 0.0506687296614086,\n",
              " 0.0583705167460529]"
            ]
          },
          "metadata": {
            "tags": []
          },
          "execution_count": 6
        }
      ]
    },
    {
      "cell_type": "code",
      "metadata": {
        "id": "xKYM5JTgampX",
        "colab_type": "code",
        "outputId": "691ae32b-fe43-416a-f741-bfe04c9367f7",
        "colab": {
          "base_uri": "https://localhost:8080/",
          "height": 107
        }
      },
      "source": [
        "forward_matrix #Forward Rate Matrix"
      ],
      "execution_count": 0,
      "outputs": [
        {
          "output_type": "execute_result",
          "data": {
            "text/plain": [
              "array([[0.        , 0.03549764, 0.04402878, 0.05066873, 0.05837052],\n",
              "       [0.        , 0.        , 0.05263021, 0.05833743, 0.06610654],\n",
              "       [0.        , 0.        , 0.        , 0.06407559, 0.07290926],\n",
              "       [0.        , 0.        , 0.        , 0.        , 0.08181628],\n",
              "       [0.        , 0.        , 0.        , 0.        , 0.        ]])"
            ]
          },
          "metadata": {
            "tags": []
          },
          "execution_count": 7
        }
      ]
    },
    {
      "cell_type": "code",
      "metadata": {
        "id": "FmUTd7jaK_KN",
        "colab_type": "code",
        "outputId": "9694f433-ec20-4816-8731-75ee19f44ecc",
        "colab": {
          "base_uri": "https://localhost:8080/",
          "height": 315
        }
      },
      "source": [
        "import matplotlib.pyplot as plt\n",
        "plt.figure(1)\n",
        "ax1 = plt.subplot(1,2,1)\n",
        "ax1.plot(100*np.array(yield_array),label = 'yield_curve')\n",
        "ax1.plot(100*np.array(spot_array),label = 'spot_curve')\n",
        "ax1.legend()\n",
        "ax1.set_title('Yield Curve & Spot Curve')\n",
        "ax1.set_xlabel('terms')\n",
        "ax1.set_ylabel('rate')\n",
        "ax2 = plt.subplot(1,2,2)\n",
        "ax2.matshow(forward_matrix)\n",
        "for i in range(len(forward_matrix)):\n",
        "    for j in range(len(forward_matrix)):\n",
        "        text = ax2.text(j,i,round(forward_matrix[i,j],4),ha='center',va='center')\n",
        "plt.tight_layout()"
      ],
      "execution_count": 0,
      "outputs": [
        {
          "output_type": "stream",
          "text": [
            "ERROR! Session/line number was not unique in database. History logging moved to new session 59\n"
          ],
          "name": "stdout"
        },
        {
          "output_type": "display_data",
          "data": {
            "image/png": "[encoded data removed]",
            "text/plain": [
              "<Figure size 432x288 with 2 Axes>"
            ]
          },
          "metadata": {
            "tags": []
          }
        }
      ]
    },
    {
      "cell_type": "markdown",
      "metadata": {
        "id": "4QMEB__4a8mi",
        "colab_type": "text"
      },
      "source": [
        "使用Matplotlib繪圖。"
      ]
    },
    {
      "cell_type": "code",
      "metadata": {
        "id": "yu2MNmBmdGIY",
        "colab_type": "code",
        "colab": {}
      },
      "source": [
        ""
      ],
      "execution_count": 0,
      "outputs": []
    }
  ]
}
