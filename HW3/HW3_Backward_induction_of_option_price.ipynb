{
  "nbformat": 4,
  "nbformat_minor": 0,
  "metadata": {
    "colab": {
      "name": "HW3_Backward_induction_of_option_price.ipynb",
      "provenance": [],
      "collapsed_sections": [],
      "authorship_tag": "ABX9TyOb60hBd9cxgmoNcfOjv+W/",
      "include_colab_link": true
    },
    "kernelspec": {
      "name": "python3",
      "display_name": "Python 3"
    }
  },
  "cells": [
    {
      "cell_type": "markdown",
      "metadata": {
        "id": "view-in-github",
        "colab_type": "text"
      },
      "source": [
        "<a href=\"https://colab.research.google.com/github/pjwu1997/FinancialEngineering/blob/master/HW3/HW3_Backward_induction_of_option_price.ipynb\" target=\"_parent\"><img src=\"https://colab.research.google.com/assets/colab-badge.svg\" alt=\"Open In Colab\"/></a>"
      ]
    },
    {
      "cell_type": "code",
      "metadata": {
        "id": "aL3sL90jSULG",
        "colab_type": "code",
        "colab": {}
      },
      "source": [
        "# Import section\n",
        "from scipy.special import comb\n",
        "import numpy as np"
      ],
      "execution_count": 0,
      "outputs": []
    },
    {
      "cell_type": "code",
      "metadata": {
        "id": "gX8MM5xIVpYQ",
        "colab_type": "code",
        "outputId": "fb1d90fb-7947-401d-c9bc-5d37157161d0",
        "colab": {
          "base_uri": "https://localhost:8080/",
          "height": 143
        }
      },
      "source": [
        "# Parameters\n",
        "s = float(input(\"請輸入現貨價格\"))\n",
        "u = float(input(\"請輸入二元樹之u\"))\n",
        "d = float(input(\"請輸入二元樹之d\"))\n",
        "t_terms = float(input(\"請輸入一期之時間,以年為單位\"))\n",
        "R = np.math.exp(float(input(\"請輸入年化折現利率\"))*t_terms)\n",
        "p = (R-d)/(u-d)\n",
        "x = float(input(\"請輸入履約價\"))\n",
        "n = int(input(\"請輸入期數\"))"
      ],
      "execution_count": 0,
      "outputs": [
        {
          "output_type": "stream",
          "text": [
            "請輸入現貨價格160\n",
            "請輸入二元樹之u1.5\n",
            "請輸入二元樹之d0.5\n",
            "請輸入一期之時間,以年為單位1\n",
            "請輸入年化折現利率0.18232\n",
            "請輸入履約價150\n",
            "請輸入期數3\n"
          ],
          "name": "stdout"
        }
      ]
    },
    {
      "cell_type": "code",
      "metadata": {
        "id": "TS3jSeJnlhEJ",
        "colab_type": "code",
        "colab": {}
      },
      "source": [
        "# Call Price\n",
        "stock_value_tree = np.zeros((n+1,n+1)) # Create data with dimension 2 and n elements for each dimension\n",
        "stock_value_tree[0][0] = s\n",
        "for i in range(1,n+1):\n",
        "    for j in range(i+1):\n",
        "        if j == i :\n",
        "            stock_value_tree[i][j] = stock_value_tree[i-1][j-1] * d\n",
        "        else:\n",
        "            stock_value_tree[i][j] = stock_value_tree[i-1][j] * u\n",
        "\n",
        "call_value_tree = np.zeros((n+1,n+1))\n",
        "\n",
        "for i in range(n+1) :\n",
        "    for j in range(i+1):\n",
        "        call_value_tree[i][j] = max(0, stock_value_tree[i][j] - x)\n",
        "\n",
        "put_value_tree = np.zeros((n+1,n+1))\n",
        "for i in range(n+1):\n",
        "    for j in range(i+1):\n",
        "        put_value_tree[i][j] = max(0, x - stock_value_tree[i][j])\n",
        "\n",
        "# backward induction on euro call / put\n",
        "# start from the generation one before the last generation\n",
        "euro_call_value = 0\n",
        "euro_put_value = 0\n",
        "\n",
        "for i in range(n+1):\n",
        "    euro_call_value += comb(n,i) * p**(n-i) * (1-p)**(i) * call_value_tree[n][i] * R**(-n)\n",
        "    euro_put_value += comb(n,i) * p**(n-i) * (1-p)**(i) * put_value_tree[n][i] * R**(-n)\n",
        "\n",
        "ame_call_value_tree = call_value_tree.copy()\n",
        "ame_put_value_tree = put_value_tree.copy()\n",
        "\n",
        "#backward induction on american call / put\n",
        "for i in range(n-1,-1,-1):\n",
        "    for j in range(i+1):\n",
        "        #print(\"(i,j)=(\"+str(i)+\",\"+str(j)+\")\")\n",
        "        ame_call_value_tree[i][j] = max(ame_call_value_tree[i][j], (p*ame_call_value_tree[i+1][j]+(1-p)*ame_call_value_tree[i+1][j+1])/R)\n",
        "        ame_put_value_tree[i][j] = max(ame_put_value_tree[i][j], (p*ame_put_value_tree[i+1][j]+(1-p)*ame_put_value_tree[i+1][j+1])/R)\n",
        "\n",
        "ame_call_value = ame_call_value_tree[0][0]\n",
        "ame_put_value = ame_put_value_tree[0][0]"
      ],
      "execution_count": 0,
      "outputs": []
    },
    {
      "cell_type": "code",
      "metadata": {
        "id": "m0bj9D2hTN3b",
        "colab_type": "code",
        "outputId": "4e90c79b-012b-4581-a8d4-6d2ce6f7e948",
        "colab": {
          "base_uri": "https://localhost:8080/",
          "height": 89
        }
      },
      "source": [
        "print(\"euro_call_value=\",euro_call_value)\n",
        "print(\"american_call_value=\",ame_call_value)\n",
        "print(\"euro_put_value=\",euro_put_value)\n",
        "print(\"american_put_value=\",ame_put_value)"
      ],
      "execution_count": 0,
      "outputs": [
        {
          "output_type": "stream",
          "text": [
            "euro_call_value= 85.06922876361152\n",
            "american_call_value= 85.06922876361149\n",
            "euro_put_value= 11.875189735206163\n",
            "american_put_value= 21.87516540944857\n"
          ],
          "name": "stdout"
        }
      ]
    },
    {
      "cell_type": "code",
      "metadata": {
        "id": "GwDHyx2LmWM3",
        "colab_type": "code",
        "outputId": "7fd8f69a-6846-45e8-8db7-68fa6f7b4a4e",
        "colab": {
          "base_uri": "https://localhost:8080/",
          "height": 89
        }
      },
      "source": [
        "ame_call_value_tree"
      ],
      "execution_count": 0,
      "outputs": [
        {
          "output_type": "execute_result",
          "data": {
            "text/plain": [
              "array([[ 85.06922876,   0.        ,   0.        ,   0.        ],\n",
              "       [141.45809657,  10.20831063,   0.        ,   0.        ],\n",
              "       [234.9998054 ,  17.49998054,   0.        ,   0.        ],\n",
              "       [390.        ,  30.        ,   0.        ,   0.        ]])"
            ]
          },
          "metadata": {
            "tags": []
          },
          "execution_count": 5
        }
      ]
    },
    {
      "cell_type": "code",
      "metadata": {
        "id": "_TIUN4pwZ3kF",
        "colab_type": "code",
        "outputId": "3ba9cbde-32b1-497a-99fe-8d17afd3d6d7",
        "colab": {
          "base_uri": "https://localhost:8080/",
          "height": 89
        }
      },
      "source": [
        "ame_put_value_tree"
      ],
      "execution_count": 0,
      "outputs": [
        {
          "output_type": "execute_result",
          "data": {
            "text/plain": [
              "array([[ 21.87516541,   0.        ,   0.        ,   0.        ],\n",
              "       [  7.50005838,  70.        ,   0.        ,   0.        ],\n",
              "       [  0.        ,  30.        , 110.        ,   0.        ],\n",
              "       [  0.        ,   0.        ,  90.        , 130.        ]])"
            ]
          },
          "metadata": {
            "tags": []
          },
          "execution_count": 6
        }
      ]
    },
    {
      "cell_type": "code",
      "metadata": {
        "id": "LMfxGMgL0RIm",
        "colab_type": "code",
        "outputId": "921a777d-5339-4152-c187-939d058b11d1",
        "colab": {
          "base_uri": "https://localhost:8080/",
          "height": 395
        }
      },
      "source": [
        "# print the binomial tree\n",
        "import matplotlib.pyplot as plt\n",
        "plt.figure(1,figsize=(20,30))\n",
        "ax1 = plt.subplot(1,3,1)\n",
        "ax1.matshow(stock_value_tree)\n",
        "ax1.set_title(\"Stock price, binomial tree with 3 terms\")\n",
        "ax1.set_ylabel(\"terms\")\n",
        "for i in range(len(stock_value_tree)):\n",
        "    for j in range(len(stock_value_tree)):\n",
        "        text = ax1.text(j,i,round(stock_value_tree[i][j],2),ha='center',va='center')\n",
        "\n",
        "ax2 = plt.subplot(1,3,2)\n",
        "ax2.matshow(ame_call_value_tree)\n",
        "ax2.set_title(\"American call option, binomial tree\")\n",
        "ax2.set_ylabel(\"terms\")\n",
        "ax2.matshow(ame_call_value_tree)\n",
        "for i in range(len(ame_call_value_tree)):\n",
        "    for j in range(len(ame_call_value_tree)):\n",
        "        text = ax2.text(j,i,round(ame_call_value_tree[i][j],2),ha='center',va='center')\n",
        "\n",
        "ax3 = plt.subplot(1,3,3)\n",
        "ax3.set_title(\"American put option, binomial tree\")\n",
        "ax3.matshow(ame_put_value_tree)\n",
        "ax3.set_ylabel(\"terms\")\n",
        "for i in range(len(ame_put_value_tree)):\n",
        "    for j in range(len(ame_put_value_tree)):\n",
        "        text = ax3.text(j,i,round(ame_put_value_tree[i][j],2),ha='center',va='center')\n",
        "\n",
        "  "
      ],
      "execution_count": 0,
      "outputs": [
        {
          "output_type": "display_data",
          "data": {
            "image/png": "[encoded data removed]",
            "text/plain": [
              "<Figure size 1440x2160 with 3 Axes>"
            ]
          },
          "metadata": {
            "tags": [],
            "needs_background": "light"
          }
        }
      ]
    },
    {
      "cell_type": "code",
      "metadata": {
        "id": "8_SrYRA887L3",
        "colab_type": "code",
        "outputId": "5bd67b4c-2205-404d-c168-23b1f778ebee",
        "colab": {
          "base_uri": "https://localhost:8080/",
          "height": 675
        }
      },
      "source": [
        "# 選擇權的時間價值,考慮多期之選擇權,以歐式選擇權為例子\n",
        "def calculate_euro_option(s,n,R,x,u,d):\n",
        "    stock_value_tree = np.zeros((n+1,n+1)) # Create data with dimension 2 and n elements for each dimension\n",
        "    stock_value_tree[0][0] = s\n",
        "    for i in range(1,n+1):\n",
        "        for j in range(i+1):\n",
        "            if j == i :\n",
        "                stock_value_tree[i][j] = stock_value_tree[i-1][j-1] * d\n",
        "            else:\n",
        "                stock_value_tree[i][j] = stock_value_tree[i-1][j] * u\n",
        "    call_value_tree = np.zeros((n+1,n+1))\n",
        "    \n",
        "    for i in range(n+1) :\n",
        "        for j in range(i+1):\n",
        "            call_value_tree[i][j] = max(0, stock_value_tree[i][j] - x)\n",
        "    put_value_tree = np.zeros((n+1,n+1))\n",
        "    \n",
        "    for i in range(n+1):\n",
        "        for j in range(i+1):\n",
        "            put_value_tree[i][j] = max(0, x - stock_value_tree[i][j])\n",
        "    # backward induction on euro call / put\n",
        "    # start from the generation one before the last generation\n",
        "    euro_call_value = 0\n",
        "    euro_put_value = 0\n",
        "    \n",
        "    for i in range(n+1):\n",
        "        euro_call_value += comb(n,i) * p**(n-i) * (1-p)**(i) * call_value_tree[n][i] * R**(-n)\n",
        "        euro_put_value += comb(n,i) * p**(n-i) * (1-p)**(i) * put_value_tree[n][i] * R**(-n)\n",
        "    \n",
        "    return euro_call_value,euro_put_value\n",
        "\n",
        "euro_call_value_lst = []\n",
        "euro_put_value_lst = []\n",
        "\n",
        "start = int(input(\"計算選擇權之時間價值,最短期之選擇權之期數\"))\n",
        "end = int(input(\"最長期之選擇權之期數\"))\n",
        "for i in range(start,end+1):\n",
        "    call_price, put_price = calculate_euro_option(s,i,R,x,u,d)\n",
        "    euro_call_value_lst.append(call_price)\n",
        "    euro_put_value_lst.append(put_price)\n",
        "time_lst = np.arange(start,end+1)\n",
        "plt.figure(2,figsize=(10,10))\n",
        "plt.title(\"Time value of euro option t=\"+str(start)+\" to \"+str(end))\n",
        "plt.xlabel(\"terms of option\")\n",
        "plt.ylabel(\"value of option\")\n",
        "plt.plot(time_lst , euro_call_value_lst, label = 'call_value')\n",
        "plt.plot(time_lst, euro_put_value_lst, label = \"put_value\")\n",
        "plt.legend()\n"
      ],
      "execution_count": 0,
      "outputs": [
        {
          "output_type": "stream",
          "text": [
            "計算選擇權之時間價值,最短期之選擇權之期數1\n",
            "最長期之選擇權之期數100\n"
          ],
          "name": "stdout"
        },
        {
          "output_type": "execute_result",
          "data": {
            "text/plain": [
              "<matplotlib.legend.Legend at 0x7f9a5a052358>"
            ]
          },
          "metadata": {
            "tags": []
          },
          "execution_count": 20
        },
        {
          "output_type": "display_data",
          "data": {
            "image/png": "[encoded data removed]",
            "text/plain": [
              "<Figure size 720x720 with 1 Axes>"
            ]
          },
          "metadata": {
            "tags": [],
            "needs_background": "light"
          }
        }
      ]
    },
    {
      "cell_type": "code",
      "metadata": {
        "id": "BNr05-AUFuqb",
        "colab_type": "code",
        "colab": {}
      },
      "source": [
        "3"
      ],
      "execution_count": 0,
      "outputs": []
    }
  ]
}