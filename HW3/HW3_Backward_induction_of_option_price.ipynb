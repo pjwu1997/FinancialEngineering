{
  "nbformat": 4,
  "nbformat_minor": 0,
  "metadata": {
    "colab": {
      "name": "HW3_Backward_induction_of_option_price.ipynb",
      "provenance": [],
      "collapsed_sections": [],
      "authorship_tag": "ABX9TyMBRoEKS+lNo0HmuXeqdUaa",
      "include_colab_link": true
    },
    "kernelspec": {
      "name": "python3",
      "display_name": "Python 3"
    }
  },
  "cells": [
    {
      "cell_type": "markdown",
      "metadata": {
        "id": "view-in-github",
        "colab_type": "text"
      },
      "source": [
        "<a href=\"https://colab.research.google.com/github/pjwu1997/FinancialEngineering/blob/master/HW3_Backward_induction_of_option_price.ipynb\" target=\"_parent\"><img src=\"https://colab.research.google.com/assets/colab-badge.svg\" alt=\"Open In Colab\"/></a>"
      ]
    },
    {
      "cell_type": "code",
      "metadata": {
        "id": "aL3sL90jSULG",
        "colab_type": "code",
        "colab": {}
      },
      "source": [
        "# Import section\n",
        "from scipy.special import comb\n",
        "import numpy as np"
      ],
      "execution_count": 0,
      "outputs": []
    },
    {
      "cell_type": "code",
      "metadata": {
        "id": "gX8MM5xIVpYQ",
        "colab_type": "code",
        "outputId": "25cae1cf-b114-4664-8c1e-f3251b6598b0",
        "colab": {
          "base_uri": "https://localhost:8080/",
          "height": 143
        }
      },
      "source": [
        "# Parameters\n",
        "s = float(input(\"請輸入現貨價格\"))\n",
        "u = float(input(\"請輸入二元樹之u\"))\n",
        "d = float(input(\"請輸入二元樹之d\"))\n",
        "t_terms = float(input(\"請輸入一期之時間,以年為單位\"))\n",
        "R = np.math.exp(float(input(\"請輸入年化折現利率\"))*t_terms)\n",
        "p = (R-d)/(u-d)\n",
        "x = float(input(\"請輸入履約價\"))\n",
        "n = int(input(\"請輸入期數\"))"
      ],
      "execution_count": 47,
      "outputs": [
        {
          "output_type": "stream",
          "text": [
            "請輸入現貨價格160\n",
            "請輸入二元樹之u1.5\n",
            "請輸入二元樹之d0.5\n",
            "請輸入一期之時間,以年為單位1\n",
            "請輸入年化折現利率0.18232\n",
            "請輸入履約價150\n",
            "請輸入期數3\n"
          ],
          "name": "stdout"
        }
      ]
    },
    {
      "cell_type": "code",
      "metadata": {
        "id": "TS3jSeJnlhEJ",
        "colab_type": "code",
        "colab": {
          "base_uri": "https://localhost:8080/",
          "height": 125
        },
        "outputId": "78310470-f457-4b5b-db08-4a55547cf50e"
      },
      "source": [
        "# Call Price\n",
        "stock_value_tree = np.zeros((n+1,n+1)) # Create data with dimension 2 and n elements for each dimension\n",
        "stock_value_tree[0][0] = s\n",
        "for i in range(1,n+1):\n",
        "    for j in range(i+1):\n",
        "        if j == i :\n",
        "            stock_value_tree[i][j] = stock_value_tree[i-1][j-1] * d\n",
        "        else:\n",
        "            stock_value_tree[i][j] = stock_value_tree[i-1][j] * u\n",
        "\n",
        "call_value_tree = np.zeros((n+1,n+1))\n",
        "\n",
        "for i in range(n+1) :\n",
        "    for j in range(i+1):\n",
        "        call_value_tree[i][j] = max(0, stock_value_tree[i][j] - x)\n",
        "\n",
        "put_value_tree = np.zeros((n+1,n+1))\n",
        "for i in range(n+1):\n",
        "    for j in range(i+1):\n",
        "        put_value_tree[i][j] = max(0, x - stock_value_tree[i][j])\n",
        "\n",
        "# backward induction on euro call / put\n",
        "# start from the generation one before the last generation\n",
        "euro_call_value = 0\n",
        "euro_put_value = 0\n",
        "\n",
        "for i in range(n+1):\n",
        "    euro_call_value += comb(n,i) * p**(n-i) * (1-p)**(i) * call_value_tree[n][i] * R**(-n)\n",
        "    euro_put_value += comb(n,i) * p**(n-i) * (1-p)**(i) * put_value_tree[n][i] * R**(-n)\n",
        "\n",
        "ame_call_value_tree = call_value_tree.copy()\n",
        "ame_put_value_tree = put_value_tree.copy()\n",
        "\n",
        "#backward induction on american call / put\n",
        "for i in range(n-1,-1,-1):\n",
        "    for j in range(i+1):\n",
        "        #print(\"(i,j)=(\"+str(i)+\",\"+str(j)+\")\")\n",
        "        ame_call_value_tree[i][j] = max(ame_call_value_tree[i][j], (p*ame_call_value_tree[i+1][j]+(1-p)*ame_call_value_tree[i+1][j+1])/R)\n",
        "        ame_put_value_tree[i][j] = max(ame_put_value_tree[i][j], (p*ame_put_value_tree[i+1][j]+(1-p)*ame_put_value_tree[i+1][j+1])/R)\n",
        "\n",
        "ame_call_value = ame_call_value_tree[0][0]\n",
        "ame_put_value = ame_put_value_tree[0][0]"
      ],
      "execution_count": 80,
      "outputs": [
        {
          "output_type": "stream",
          "text": [
            "(i,j)=(2,0)\n",
            "(i,j)=(2,1)\n",
            "(i,j)=(2,2)\n",
            "(i,j)=(1,0)\n",
            "(i,j)=(1,1)\n",
            "(i,j)=(0,0)\n"
          ],
          "name": "stdout"
        }
      ]
    },
    {
      "cell_type": "code",
      "metadata": {
        "id": "m0bj9D2hTN3b",
        "colab_type": "code",
        "outputId": "6b8c6287-2298-4dc3-a55a-3c55b7c6dd46",
        "colab": {
          "base_uri": "https://localhost:8080/",
          "height": 89
        }
      },
      "source": [
        "print(\"euro_call_value=\",euro_call_value)\n",
        "print(\"american_call_value=\",ame_call_value)\n",
        "print(\"euro_put_value=\",euro_put_value)\n",
        "print(\"american_put_value=\",ame_put_value)"
      ],
      "execution_count": 81,
      "outputs": [
        {
          "output_type": "stream",
          "text": [
            "euro_call_value= 85.06922876361152\n",
            "american_call_value= 85.06922876361149\n",
            "euro_put_value= 11.875189735206163\n",
            "american_put_value= 21.87516540944857\n"
          ],
          "name": "stdout"
        }
      ]
    },
    {
      "cell_type": "code",
      "metadata": {
        "id": "GwDHyx2LmWM3",
        "colab_type": "code",
        "outputId": "4e2e12e0-23bd-4d52-f1ff-ee42aadf87e3",
        "colab": {
          "base_uri": "https://localhost:8080/",
          "height": 89
        }
      },
      "source": [
        "ame_call_value_tree"
      ],
      "execution_count": 82,
      "outputs": [
        {
          "output_type": "execute_result",
          "data": {
            "text/plain": [
              "array([[ 85.06922876,   0.        ,   0.        ,   0.        ],\n",
              "       [141.45809657,  10.20831063,   0.        ,   0.        ],\n",
              "       [234.9998054 ,  17.49998054,   0.        ,   0.        ],\n",
              "       [390.        ,  30.        ,   0.        ,   0.        ]])"
            ]
          },
          "metadata": {
            "tags": []
          },
          "execution_count": 82
        }
      ]
    },
    {
      "cell_type": "code",
      "metadata": {
        "id": "_TIUN4pwZ3kF",
        "colab_type": "code",
        "outputId": "320a67f0-4b07-460d-dffa-adf79d80a37c",
        "colab": {
          "base_uri": "https://localhost:8080/",
          "height": 89
        }
      },
      "source": [
        "ame_put_value_tree"
      ],
      "execution_count": 83,
      "outputs": [
        {
          "output_type": "execute_result",
          "data": {
            "text/plain": [
              "array([[ 21.87516541,   0.        ,   0.        ,   0.        ],\n",
              "       [  7.50005838,  70.        ,   0.        ,   0.        ],\n",
              "       [  0.        ,  30.        , 110.        ,   0.        ],\n",
              "       [  0.        ,   0.        ,  90.        , 130.        ]])"
            ]
          },
          "metadata": {
            "tags": []
          },
          "execution_count": 83
        }
      ]
    }
  ]
}
