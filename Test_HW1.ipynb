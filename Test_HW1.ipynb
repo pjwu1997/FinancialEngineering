{
  "nbformat": 4,
  "nbformat_minor": 0,
  "metadata": {
    "colab": {
      "name": "Test_HW1.ipynb",
      "provenance": [],
      "authorship_tag": "ABX9TyP4T4oCNUcjNuOovyf45jCw",
      "include_colab_link": true
    },
    "kernelspec": {
      "name": "python3",
      "display_name": "Python 3"
    }
  },
  "cells": [
    {
      "cell_type": "markdown",
      "metadata": {
        "id": "view-in-github",
        "colab_type": "text"
      },
      "source": [
        "<a href=\"https://colab.research.google.com/github/pjwu1997/FinancialEngineering/blob/master/Test_HW1.ipynb\" target=\"_parent\"><img src=\"https://colab.research.google.com/assets/colab-badge.svg\" alt=\"Open In Colab\"/></a>"
      ]
    },
    {
      "cell_type": "code",
      "metadata": {
        "id": "S2q1dfw9EbFZ",
        "colab_type": "code",
        "colab": {}
      },
      "source": [
        "import csv"
      ],
      "execution_count": 0,
      "outputs": []
    },
    {
      "cell_type": "code",
      "metadata": {
        "id": "SCnoHfKYEbhz",
        "colab_type": "code",
        "outputId": "b3f77c5a-3b6c-4d02-eb88-a3664c4587e7",
        "colab": {
          "base_uri": "https://localhost:8080/",
          "height": 71
        }
      },
      "source": [
        "principal = float(input(\"請輸入本金（萬元）\"))*10000\n",
        "terms = int(input(\"請輸入期數（年）\"))\n",
        "rate = float(input(\"請輸入年利率（%）\"))"
      ],
      "execution_count": 3,
      "outputs": [
        {
          "output_type": "stream",
          "text": [
            "請輸入本金（萬元）10\n",
            "請輸入期數（年）1\n",
            "請輸入年利率（%）12\n"
          ],
          "name": "stdout"
        }
      ]
    },
    {
      "cell_type": "code",
      "metadata": {
        "id": "dXe4rwDbnRgt",
        "colab_type": "code",
        "colab": {}
      },
      "source": [
        "r_principal = []\n",
        "interest = []\n",
        "payment_list = []\n",
        "sum_totalpay = []\n",
        "total = 0"
      ],
      "execution_count": 0,
      "outputs": []
    },
    {
      "cell_type": "code",
      "metadata": {
        "id": "nscmoTrAn9Nt",
        "colab_type": "code",
        "colab": {}
      },
      "source": [
        "payment = int(principal / (terms * 12))"
      ],
      "execution_count": 0,
      "outputs": []
    },
    {
      "cell_type": "code",
      "metadata": {
        "id": "21KKRowNpXuZ",
        "colab_type": "code",
        "colab": {}
      },
      "source": [
        "for i in range(terms * 12-1):\n",
        "    r_principal.append(principal)\n",
        "    interest.append(int(r_principal[-1]*(rate/100/12)))\n",
        "    principal -= payment\n",
        "    total += (int(payment+interest[-1]))\n",
        "    payment_list.append(payment)\n",
        "    sum_totalpay.append(total)\n",
        "r_principal.append(principal)\n",
        "payment_list.append(int(r_principal[-1]))\n",
        "interest.append(int(r_principal[-1]*rate/100/12))\n",
        "total += int(payment_list[-1]+interest[-1])\n",
        "sum_totalpay.append(total)"
      ],
      "execution_count": 0,
      "outputs": []
    },
    {
      "cell_type": "code",
      "metadata": {
        "id": "uqwEhTf2qeht",
        "colab_type": "code",
        "outputId": "f88bc183-ddfe-467c-b574-65a1d99553a8",
        "colab": {
          "base_uri": "https://localhost:8080/",
          "height": 35
        }
      },
      "source": [
        "payment"
      ],
      "execution_count": 7,
      "outputs": [
        {
          "output_type": "execute_result",
          "data": {
            "text/plain": [
              "8333"
            ]
          },
          "metadata": {
            "tags": []
          },
          "execution_count": 7
        }
      ]
    },
    {
      "cell_type": "code",
      "metadata": {
        "id": "2YoJUW8uqjrL",
        "colab_type": "code",
        "outputId": "2f335d4e-a8f1-49ff-8209-17228d6ece66",
        "colab": {
          "base_uri": "https://localhost:8080/",
          "height": 233
        }
      },
      "source": [
        "r_principal"
      ],
      "execution_count": 8,
      "outputs": [
        {
          "output_type": "execute_result",
          "data": {
            "text/plain": [
              "[100000.0,\n",
              " 91667.0,\n",
              " 83334.0,\n",
              " 75001.0,\n",
              " 66668.0,\n",
              " 58335.0,\n",
              " 50002.0,\n",
              " 41669.0,\n",
              " 33336.0,\n",
              " 25003.0,\n",
              " 16670.0,\n",
              " 8337.0]"
            ]
          },
          "metadata": {
            "tags": []
          },
          "execution_count": 8
        }
      ]
    },
    {
      "cell_type": "code",
      "metadata": {
        "id": "VFqR3jtqrI9z",
        "colab_type": "code",
        "outputId": "ebc79af0-413a-4f19-8746-1262c765833d",
        "colab": {
          "base_uri": "https://localhost:8080/",
          "height": 35
        }
      },
      "source": [
        "total"
      ],
      "execution_count": 9,
      "outputs": [
        {
          "output_type": "execute_result",
          "data": {
            "text/plain": [
              "106496"
            ]
          },
          "metadata": {
            "tags": []
          },
          "execution_count": 9
        }
      ]
    },
    {
      "cell_type": "code",
      "metadata": {
        "id": "q541UISvv773",
        "colab_type": "code",
        "outputId": "32c6d73c-2ee1-4c2b-bad2-9f2553818753",
        "colab": {
          "base_uri": "https://localhost:8080/",
          "height": 233
        }
      },
      "source": [
        "sum_totalpay"
      ],
      "execution_count": 10,
      "outputs": [
        {
          "output_type": "execute_result",
          "data": {
            "text/plain": [
              "[9333,\n",
              " 18582,\n",
              " 27748,\n",
              " 36831,\n",
              " 45830,\n",
              " 54746,\n",
              " 63579,\n",
              " 72328,\n",
              " 80994,\n",
              " 89577,\n",
              " 98076,\n",
              " 106496]"
            ]
          },
          "metadata": {
            "tags": []
          },
          "execution_count": 10
        }
      ]
    },
    {
      "cell_type": "code",
      "metadata": {
        "id": "VQfqDULZyMqu",
        "colab_type": "code",
        "colab": {}
      },
      "source": [
        "with open('result.csv','w',newline = '') as csvfile:\n",
        "    writer = csv.writer(csvfile)\n",
        "    writer.writerow(['本金',principal])\n",
        "    writer.writerow(['期數（年）',terms])\n",
        "    writer.writerow(['年利率',str(rate)+'%'])\n",
        "    writer.writerow(['平均每月攤還本金',payment])\n",
        "    writer.writerow(['平均每月攤還利息',sum(interest)/len(interest)])\n",
        "    writer.writerow(['全部利息',sum(interest)])\n",
        "    writer.writerow(['','本金（元）','利息（元）','本金利息累計（元）'])\n",
        "    for i in range(len(r_principal)):\n",
        "        writer.writerow(['第'+str(i+1)+'期',payment_list[i],interest[i],sum_totalpay[i]])"
      ],
      "execution_count": 0,
      "outputs": []
    },
    {
      "cell_type": "code",
      "metadata": {
        "id": "7ghC8sGz4EYD",
        "colab_type": "code",
        "colab": {}
      },
      "source": [
        ""
      ],
      "execution_count": 0,
      "outputs": []
    }
  ]
}