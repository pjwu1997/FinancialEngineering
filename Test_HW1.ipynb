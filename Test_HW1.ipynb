{
  "nbformat": 4,
  "nbformat_minor": 0,
  "metadata": {
    "colab": {
      "name": "Test_HW1.ipynb",
      "provenance": [],
      "authorship_tag": "ABX9TyMPxY/OMDhXSe5d49jBz9HA",
      "include_colab_link": true
    },
    "kernelspec": {
      "name": "python3",
      "display_name": "Python 3"
    }
  },
  "cells": [
    {
      "cell_type": "markdown",
      "metadata": {
        "id": "view-in-github",
        "colab_type": "text"
      },
      "source": [
        "<a href=\"https://colab.research.google.com/github/pjwu1997/FinancialEngineering/blob/master/Test_HW1.ipynb\" target=\"_parent\"><img src=\"https://colab.research.google.com/assets/colab-badge.svg\" alt=\"Open In Colab\"/></a>"
      ]
    },
    {
      "cell_type": "code",
      "metadata": {
        "id": "S2q1dfw9EbFZ",
        "colab_type": "code",
        "colab": {}
      },
      "source": [
        "import csv"
      ],
      "execution_count": 0,
      "outputs": []
    },
    {
      "cell_type": "code",
      "metadata": {
        "id": "SCnoHfKYEbhz",
        "colab_type": "code",
        "colab": {
          "base_uri": "https://localhost:8080/",
          "height": 71
        },
        "outputId": "43bd6885-5c30-439a-f148-961ae5399578"
      },
      "source": [
        "principal = float(input(\"請輸入本金（萬元）\"))*10000\n",
        "terms = int(input(\"請輸入期數（年）\"))\n",
        "rate = float(input(\"請輸入年利率（%）\"))"
      ],
      "execution_count": 93,
      "outputs": [
        {
          "output_type": "stream",
          "text": [
            "請輸入本金（萬元）10\n",
            "請輸入期數（年）1\n",
            "請輸入年利率（%）12\n"
          ],
          "name": "stdout"
        }
      ]
    },
    {
      "cell_type": "code",
      "metadata": {
        "id": "dXe4rwDbnRgt",
        "colab_type": "code",
        "colab": {}
      },
      "source": [
        "r_principal = []\n",
        "interest = []\n",
        "payment_list = []\n",
        "sum_totalpay = []\n",
        "total = 0"
      ],
      "execution_count": 0,
      "outputs": []
    },
    {
      "cell_type": "code",
      "metadata": {
        "id": "nscmoTrAn9Nt",
        "colab_type": "code",
        "colab": {}
      },
      "source": [
        "payment = int(principal / (terms * 12))"
      ],
      "execution_count": 0,
      "outputs": []
    },
    {
      "cell_type": "code",
      "metadata": {
        "id": "21KKRowNpXuZ",
        "colab_type": "code",
        "colab": {}
      },
      "source": [
        "for i in range(terms * 12-1):\n",
        "    r_principal.append(principal)\n",
        "    interest.append(int(r_principal[-1]*(rate/100/12)))\n",
        "    principal -= payment\n",
        "    total += (int(payment+interest[-1]))\n",
        "    payment_list.append(payment)\n",
        "    sum_totalpay.append(total)\n",
        "r_principal.append(principal)\n",
        "payment_list.append(int(r_principal[-1]))\n",
        "interest.append(int(r_principal[-1]*rate/100/12))\n",
        "total += int(payment_list[-1]+interest[-1])\n",
        "sum_totalpay.append(total)"
      ],
      "execution_count": 0,
      "outputs": []
    },
    {
      "cell_type": "code",
      "metadata": {
        "id": "uqwEhTf2qeht",
        "colab_type": "code",
        "colab": {
          "base_uri": "https://localhost:8080/",
          "height": 35
        },
        "outputId": "cb0d80db-2bf3-4a65-e25a-f4d4a621e015"
      },
      "source": [
        "payment"
      ],
      "execution_count": 97,
      "outputs": [
        {
          "output_type": "execute_result",
          "data": {
            "text/plain": [
              "8333"
            ]
          },
          "metadata": {
            "tags": []
          },
          "execution_count": 97
        }
      ]
    },
    {
      "cell_type": "code",
      "metadata": {
        "id": "2YoJUW8uqjrL",
        "colab_type": "code",
        "colab": {
          "base_uri": "https://localhost:8080/",
          "height": 233
        },
        "outputId": "9a506ac1-9e51-4604-f758-e67b052855b4"
      },
      "source": [
        "r_principal"
      ],
      "execution_count": 98,
      "outputs": [
        {
          "output_type": "execute_result",
          "data": {
            "text/plain": [
              "[100000.0,\n",
              " 91667.0,\n",
              " 83334.0,\n",
              " 75001.0,\n",
              " 66668.0,\n",
              " 58335.0,\n",
              " 50002.0,\n",
              " 41669.0,\n",
              " 33336.0,\n",
              " 25003.0,\n",
              " 16670.0,\n",
              " 8337.0]"
            ]
          },
          "metadata": {
            "tags": []
          },
          "execution_count": 98
        }
      ]
    },
    {
      "cell_type": "code",
      "metadata": {
        "id": "VFqR3jtqrI9z",
        "colab_type": "code",
        "colab": {
          "base_uri": "https://localhost:8080/",
          "height": 35
        },
        "outputId": "d364b3f5-ea8b-4cd8-cd59-0f3fda11b6b3"
      },
      "source": [
        "total"
      ],
      "execution_count": 99,
      "outputs": [
        {
          "output_type": "execute_result",
          "data": {
            "text/plain": [
              "106496"
            ]
          },
          "metadata": {
            "tags": []
          },
          "execution_count": 99
        }
      ]
    },
    {
      "cell_type": "code",
      "metadata": {
        "id": "q541UISvv773",
        "colab_type": "code",
        "colab": {
          "base_uri": "https://localhost:8080/",
          "height": 233
        },
        "outputId": "a69a1e30-4334-49ba-d50b-951097454ef5"
      },
      "source": [
        "sum_totalpay"
      ],
      "execution_count": 100,
      "outputs": [
        {
          "output_type": "execute_result",
          "data": {
            "text/plain": [
              "[9333,\n",
              " 18582,\n",
              " 27748,\n",
              " 36831,\n",
              " 45830,\n",
              " 54746,\n",
              " 63579,\n",
              " 72328,\n",
              " 80994,\n",
              " 89577,\n",
              " 98076,\n",
              " 106496]"
            ]
          },
          "metadata": {
            "tags": []
          },
          "execution_count": 100
        }
      ]
    },
    {
      "cell_type": "code",
      "metadata": {
        "id": "VQfqDULZyMqu",
        "colab_type": "code",
        "colab": {}
      },
      "source": [
        ""
      ],
      "execution_count": 0,
      "outputs": []
    }
  ]
}