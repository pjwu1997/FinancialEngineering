{
  "nbformat": 4,
  "nbformat_minor": 0,
  "metadata": {
    "colab": {
      "name": "HW1.ipynb",
      "provenance": [],
      "toc_visible": true,
      "mount_file_id": "1NhvQ8bRh7ZM_rOjoGjr5rloH4BwqYrjH",
      "authorship_tag": "ABX9TyPA7XzPuN3l8kM8Z58oUbU4",
      "include_colab_link": true
    },
    "kernelspec": {
      "name": "python3",
      "display_name": "Python 3"
    }
  },
  "cells": [
    {
      "cell_type": "markdown",
      "metadata": {
        "id": "view-in-github",
        "colab_type": "text"
      },
      "source": [
        "<a href=\"https://colab.research.google.com/github/pjwu1997/FinancialEngineering/blob/master/HW1.ipynb\" target=\"_parent\"><img src=\"https://colab.research.google.com/assets/colab-badge.svg\" alt=\"Open In Colab\"/></a>"
      ]
    },
    {
      "cell_type": "code",
      "metadata": {
        "id": "S2q1dfw9EbFZ",
        "colab_type": "code",
        "outputId": "34645520-351c-47aa-8cd3-3b8a3a0dd04e",
        "colab": {
          "base_uri": "https://localhost:8080/",
          "height": 127
        }
      },
      "source": [
        "#For colab settings  \n",
        "from google.colab import drive\n",
        "import os\n",
        "drive.mount('/content/gdrive', force_remount = True)\n",
        "os.chdir('/content/gdrive/My Drive/')\n",
        "\n",
        "#Real\n",
        "import csv"
      ],
      "execution_count": 0,
      "outputs": [
        {
          "output_type": "stream",
          "text": [
            "Go to this URL in a browser: https://accounts.google.com/o/oauth2/auth?client_id=947318989803-6bn6qk8qdgf4n4g3pfee6491hc0brc4i.apps.googleusercontent.com&redirect_uri=urn%3aietf%3awg%3aoauth%3a2.0%3aoob&response_type=code&scope=email%20https%3a%2f%2fwww.googleapis.com%2fauth%2fdocs.test%20https%3a%2f%2fwww.googleapis.com%2fauth%2fdrive%20https%3a%2f%2fwww.googleapis.com%2fauth%2fdrive.photos.readonly%20https%3a%2f%2fwww.googleapis.com%2fauth%2fpeopleapi.readonly\n",
            "\n",
            "Enter your authorization code:\n",
            "··········\n",
            "Mounted at /content/gdrive\n"
          ],
          "name": "stdout"
        }
      ]
    },
    {
      "cell_type": "markdown",
      "metadata": {
        "id": "NwP01MkGz6JH",
        "colab_type": "text"
      },
      "source": [
        "## 學習歷程\n",
        "本次作業是要完成平均本金攤還試算，我使用Python撰寫程式，在Google Colab上以Jupyter Notebook作為平台。\n",
        "\n",
        "本次作業概念不難，平均攤還額是以起始本金除以攤還期數直接計算，透過迴圈計算每期殘餘本金及利息，最後以csv檔輸出。\n",
        "\n",
        "我主要複習了一下輸出csv檔的細節，有關程式碼的部分會在下方做說明。"
      ]
    },
    {
      "cell_type": "markdown",
      "metadata": {
        "id": "d9-dUc8g02wi",
        "colab_type": "text"
      },
      "source": [
        "## 流程圖\n",
        "![](https://i.imgur.com/iGsQcZA.jpg)"
      ]
    },
    {
      "cell_type": "code",
      "metadata": {
        "id": "SCnoHfKYEbhz",
        "colab_type": "code",
        "outputId": "4c4ef8f9-02ed-493c-a5e7-7f133760a7d5",
        "colab": {
          "base_uri": "https://localhost:8080/",
          "height": 71
        }
      },
      "source": [
        "principal = float(input(\"請輸入本金（萬元）\"))*10000\n",
        "terms = int(input(\"請輸入期數（年）\"))\n",
        "rate = float(input(\"請輸入年利率（%）\"))"
      ],
      "execution_count": 0,
      "outputs": [
        {
          "output_type": "stream",
          "text": [
            "請輸入本金（萬元）12\n",
            "請輸入期數（年）2\n",
            "請輸入年利率（%）10\n"
          ],
          "name": "stdout"
        }
      ]
    },
    {
      "cell_type": "markdown",
      "metadata": {
        "id": "Bf9ZpNbP1XWX",
        "colab_type": "text"
      },
      "source": [
        "principal 紀錄了本金\n",
        "\n",
        "terms 紀錄了期數\n",
        "\n",
        "rate 紀錄了年利率\n"
      ]
    },
    {
      "cell_type": "code",
      "metadata": {
        "id": "dXe4rwDbnRgt",
        "colab_type": "code",
        "colab": {}
      },
      "source": [
        "r_principal = []\n",
        "interest = []\n",
        "payment_list = []\n",
        "sum_totalpay = []\n",
        "total = 0"
      ],
      "execution_count": 0,
      "outputs": []
    },
    {
      "cell_type": "markdown",
      "metadata": {
        "id": "dX-8tRhp1sn9",
        "colab_type": "text"
      },
      "source": [
        "r_principal[] 紀錄每月起始時之殘存本金\n",
        "\n",
        "interest[] 紀錄每月需支付之利息\n",
        "\n",
        "payment_list[] 紀錄每月所攤還之本金\n",
        "\n",
        "sum_totalpay[] 紀錄每月所攤還之本利和\n",
        "\n",
        "total 用來計算本利和"
      ]
    },
    {
      "cell_type": "code",
      "metadata": {
        "id": "nscmoTrAn9Nt",
        "colab_type": "code",
        "colab": {}
      },
      "source": [
        "payment = int(principal / (terms * 12))"
      ],
      "execution_count": 0,
      "outputs": []
    },
    {
      "cell_type": "markdown",
      "metadata": {
        "id": "JF7Q6rhS2IZO",
        "colab_type": "text"
      },
      "source": [
        "計算payment:每月攤還本金"
      ]
    },
    {
      "cell_type": "code",
      "metadata": {
        "id": "21KKRowNpXuZ",
        "colab_type": "code",
        "colab": {}
      },
      "source": [
        "# Calculate the remain principal, interest, total payment of each term\n",
        "# Until the last term, in which all the left principal be paid.\n",
        "for i in range(terms * 12-1):\n",
        "    r_principal.append(principal)\n",
        "    interest.append(int(r_principal[-1]*rate/100/12))\n",
        "    principal -= payment\n",
        "    total += (int(payment+interest[-1]))\n",
        "    payment_list.append(payment)\n",
        "    sum_totalpay.append(total)\n",
        "\n",
        "r_principal.append(principal)\n",
        "payment_list.append(int(r_principal[-1]))\n",
        "interest.append(int(r_principal[-1]*rate/100/12))\n",
        "total += int(payment_list[-1]+interest[-1])\n",
        "sum_totalpay.append(total)"
      ],
      "execution_count": 0,
      "outputs": []
    },
    {
      "cell_type": "markdown",
      "metadata": {
        "id": "pvD9htQn2O9Y",
        "colab_type": "text"
      },
      "source": [
        "主程式：計算每期之利息及本利和。\n",
        "\n",
        "迴圈會進行期數-1次，主要因為試算系統預設每月攤還本金為整數造成最後一期之攤還額有些許落差需額外考慮。\n",
        "\n",
        "迴圈內每次進行利息計算，本金扣除並記錄之。\n",
        "\n",
        "最後額外處理最後一期之計算。"
      ]
    },
    {
      "cell_type": "code",
      "metadata": {
        "id": "VQfqDULZyMqu",
        "colab_type": "code",
        "colab": {}
      },
      "source": [
        "with open('result.csv','w',newline = '') as csvfile:\n",
        "    writer = csv.writer(csvfile)\n",
        "    writer.writerow(['本金',r_principal[0]])\n",
        "    writer.writerow(['期數（年）',terms])\n",
        "    writer.writerow(['年利率',str(rate)+'%'])\n",
        "    writer.writerow(['平均每月攤還本金',payment])\n",
        "    writer.writerow(['平均每月攤還利息',sum(interest)/len(interest)])\n",
        "    writer.writerow(['全部利息',sum(interest)])\n",
        "    writer.writerow(['','本金（元）','利息（元）','本金利息累計（元）'])\n",
        "    for i in range(len(r_principal)):\n",
        "        writer.writerow(['第'+str(i+1)+'期',payment_list[i],interest[i],sum_totalpay[i]])"
      ],
      "execution_count": 0,
      "outputs": []
    },
    {
      "cell_type": "markdown",
      "metadata": {
        "id": "i5NZg6mB2vfi",
        "colab_type": "text"
      },
      "source": [
        "撰寫csv檔，將資料寫入。"
      ]
    },
    {
      "cell_type": "markdown",
      "metadata": {
        "id": "x6FngmkJ21Yl",
        "colab_type": "text"
      },
      "source": [
        "## 執行結果\n",
        "Example: 12萬, 2年, 年利率10%\n",
        "![](https://i.imgur.com/9yAZKuA.jpg)\n",
        "\n",
        "試算系統：\n",
        "![](https://i.imgur.com/bTvuQZo.jpg)\n",
        "\n",
        "有些許的落差可能來自於本金攤還利息四捨五入的計算，大致相同。\n"
      ]
    }
  ]
}